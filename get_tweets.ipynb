{
 "cells": [
  {
   "cell_type": "markdown",
   "id": "ee0222b6",
   "metadata": {},
   "source": [
    "## Scrape historical tweets of US senators\n",
    "\n",
    "This notebook scrapes tweets from all official accounts of US senators with `snscrape` and stores\n",
    "them in a local `sqlite` database. The tweets are cleaned using the `Preprocessor` package and\n",
    "modern `Pandas` chaining methods."
   ]
  },
  {
   "cell_type": "code",
   "execution_count": null,
   "id": "1f2576a6",
   "metadata": {},
   "outputs": [],
   "source": [
    "# Imports\n",
    "from datetime import datetime\n",
    "import pandas as pd\n",
    "import datapane as dp\n",
    "import snscrape\n",
    "import sqlite3\n",
    "from snscrape.modules import twitter\n",
    "from sqlalchemy import create_engine\n",
    "import plotly.express as px\n",
    "from wordcloud import WordCloud, STOPWORDS, ImageColorGenerator\n",
    "import matplotlib.pyplot as plt\n"
   ]
  },
  {
   "cell_type": "code",
   "execution_count": null,
   "id": "b5acd296",
   "metadata": {},
   "outputs": [],
   "source": [
    "# Read in list of senator usernames\n",
    "usernames = pd.read_csv(\"data/senators_usernames.csv\")\n"
   ]
  },
  {
   "cell_type": "markdown",
   "id": "2997db42",
   "metadata": {},
   "source": [
    "### Scrape and tidy tweets"
   ]
  },
  {
   "cell_type": "code",
   "execution_count": null,
   "id": "cd1206cc",
   "metadata": {},
   "outputs": [],
   "source": [
    "def extract_tweets(scraped_profile):\n",
    "    \"\"\"Extracts essential tweet data from a Twitter\n",
    "    profile that's been previously scraped with snscrape.\n",
    "\n",
    "    Args:\n",
    "        scraped_profile (generator): Complete Twitter user profile.\n",
    "    Returns:\n",
    "        list: List of dictionaries each containing tweet data.\n",
    "    \"\"\"\n",
    "    return [\n",
    "        {\n",
    "            \"date\": tweet.date.strftime(\"%Y-%m-%d %I:%M:%S %p\"),\n",
    "            \"id\": tweet.id,\n",
    "            \"username\": tweet.user.username,\n",
    "            \"text\": tweet.content,\n",
    "            \"is_retweet\": str(tweet.retweetedTweet),\n",
    "        }\n",
    "        for tweet in scraped_profile\n",
    "    ]\n"
   ]
  },
  {
   "cell_type": "code",
   "execution_count": null,
   "id": "5c47ca27",
   "metadata": {},
   "outputs": [],
   "source": [
    "def tidy_tweets(tweets):\n",
    "    \"\"\"Clean up raw tweet data and store in a dataframe\n",
    "    with senator usernames and party affiliations.\n",
    "\n",
    "    Args:\n",
    "        tweets (list): List of dictionaries each containing tweet data.\n",
    "\n",
    "    Returns:\n",
    "        pd.DataFrame: Dataframe with all tweets for each senator as\n",
    "        well as their username and party affiliation.\n",
    "    \"\"\"\n",
    "    # Put tweet data into a df\n",
    "    tweets_df = pd.DataFrame(tweets)\n",
    "    # Tidy up\n",
    "    return (\n",
    "        tweets_df.query('is_retweet == \"None\"')  # remove all retweets\n",
    "        .assign(date=pd.to_datetime(tweets_df.date))  # convert col from str to datetime\n",
    "        # .query(f\"{START_DATE} < date < {END_DATE}\")  # drop tweets outside of date range\n",
    "        .drop(columns=[\"is_retweet\"])  # drop col\n",
    "        .merge(usernames[[\"username\", \"party\"]])  # get usernames, party affiliations\n",
    "        .sort_values(by=[\"date\"])  # sort by date\n",
    "        .reset_index(drop=True)\n",
    "    )\n"
   ]
  },
  {
   "cell_type": "code",
   "execution_count": null,
   "id": "9cc06c0c",
   "metadata": {},
   "outputs": [],
   "source": [
    "# Connect to locally created db (and create if it doesn't exist)\n",
    "conn = sqlite3.connect(\"data/TWEETS.db\")  # path to db\n"
   ]
  },
  {
   "cell_type": "code",
   "execution_count": null,
   "id": "0a35565c",
   "metadata": {},
   "outputs": [],
   "source": [
    "# Initalize empty list for tweets data\n",
    "dfs = []\n",
    "\n",
    "# Initialize empty list for skipped usernames\n",
    "skipped_usernames = []\n",
    "\n",
    "# Get tweets by username and append to db\n",
    "for username in usernames.username.tolist():\n",
    "    # for username in [\"RogerMarshallMD\", \"LeaderMcConnell\"]:\n",
    "    try:\n",
    "        # Get all tweets for given username\n",
    "        scraped_profile = twitter.TwitterProfileScraper(username=username).get_items()\n",
    "        # Extra tweet metadata\n",
    "        tweets = extract_tweets(scraped_profile)\n",
    "        # Tidy up tweets and put in df\n",
    "        tweets_df = tidy_tweets(tweets)\n",
    "        # Append to list\n",
    "        dfs.append(tweets_df)\n",
    "    except:\n",
    "        print(f\"Couldn't get tweets for {username}\")\n",
    "        # Get list of all skipped usernames\n",
    "        skipped_usernames.append(username)\n"
   ]
  },
  {
   "cell_type": "markdown",
   "id": "eb9a4ae1",
   "metadata": {},
   "source": [
    "### Write tweets to SQLite"
   ]
  },
  {
   "cell_type": "code",
   "execution_count": null,
   "id": "c60cb736",
   "metadata": {},
   "outputs": [],
   "source": [
    "# Write df to senators table in Tweets db\n",
    "for df in dfs:\n",
    "    df.to_sql(\"senators\", conn, if_exists=\"append\", chunksize=10000)\n"
   ]
  },
  {
   "cell_type": "markdown",
   "id": "8b409d72",
   "metadata": {},
   "source": [
    "### Investigate the data"
   ]
  },
  {
   "cell_type": "code",
   "execution_count": null,
   "id": "0694ac12",
   "metadata": {},
   "outputs": [],
   "source": [
    "# Read back results from SQL table\n",
    "sql_df = pd.read_sql(\"select * from senators\", conn)\n",
    "\n",
    "# Select only tweets from current session of Congress in 2021\n",
    "sql_df = sql_df.query(\n",
    "    f\"'2021-01-20' <= date <= '2021-12-31'\"\n",
    ")  # drop tweets outside of date range\n",
    "sql_df.shape\n"
   ]
  },
  {
   "cell_type": "markdown",
   "id": "693aee84",
   "metadata": {},
   "source": [
    "#### Which party tweeted more?"
   ]
  },
  {
   "cell_type": "code",
   "execution_count": null,
   "id": "578611a3",
   "metadata": {},
   "outputs": [],
   "source": [
    "# Create a mapping for more a descriptive visualization\n",
    "party_mapping = {\"D\": \"Democrat\", \"R\": \"Republican\", \"I\": \"Independent\"}\n",
    "\n",
    "# Get number of tweets by party\n",
    "pie_df = (\n",
    "    sql_df.assign(party=sql_df.party.replace(party_mapping))\n",
    "    .groupby(\"party\")[\"text\"]\n",
    "    .count()\n",
    "    .reset_index()\n",
    "    .rename(columns={\"text\": \"Tweets\", \"party\": \"Party\"})\n",
    ")\n",
    "\n",
    "# Plot pie chart of senator tweets by party membership\n",
    "fig_pie = px.pie(\n",
    "    pie_df,\n",
    "    values=\"Tweets\",\n",
    "    names=\"Party\",\n",
    "    color=\"Party\",\n",
    "    color_discrete_map={\n",
    "        \"Democrat\": \"RoyalBlue\",\n",
    "        \"Republican\": \"FireBrick\",\n",
    "        \"Independent\": \"Silver\",\n",
    "    },\n",
    "    hover_name=\"Tweets\",\n",
    ")\n",
    "fig_pie.update_layout(\n",
    "    title={\n",
    "        \"text\": \"Senator tweets by party (2021)\",\n",
    "        \"x\": 0.5,\n",
    "        \"xanchor\": \"center\",\n",
    "        \"font\": {\"size\": 22},\n",
    "    },\n",
    ")\n",
    "fig_pie.update_traces(\n",
    "    hovertemplate=\"Tweets: %{value} <br>Party: %{label}\",\n",
    "    textinfo=\"percent+value\",\n",
    "    textfont_size=13,\n",
    ")\n",
    "fig_pie.show()\n"
   ]
  },
  {
   "cell_type": "markdown",
   "id": "9ded3e68",
   "metadata": {},
   "source": [
    "#### Who are the top tweeting senators?"
   ]
  },
  {
   "cell_type": "code",
   "execution_count": null,
   "id": "44564ee4",
   "metadata": {},
   "outputs": [],
   "source": [
    "# Get tweets per senator\n",
    "bar_df = (\n",
    "    sql_df.assign(party=sql_df.party.replace(party_mapping))\n",
    "    .groupby([\"username\", \"party\"])[\"text\"]\n",
    "    .count()\n",
    "    .reset_index()\n",
    "    .merge(usernames[[\"name\", \"username\", \"state\"]])\n",
    "    .sort_values(by=\"text\", ascending=False)\n",
    "    .rename(\n",
    "        columns={\n",
    "            \"text\": \"Tweets\",\n",
    "            \"party\": \"Party\",\n",
    "            \"name\": \"Senators\",\n",
    "            \"state\": \"State\",\n",
    "            \"username\": \"Username\",\n",
    "        }\n",
    "    )\n",
    ")\n",
    "\n",
    "# Create bar plot of the top 20 tweeting senators\n",
    "fig_bar = px.bar(\n",
    "    bar_df.head(20),\n",
    "    x=\"Senators\",\n",
    "    y=\"Tweets\",\n",
    "    color=\"Party\",\n",
    "    color_discrete_map={\n",
    "        \"Democrat\": \"RoyalBlue\",\n",
    "        \"Republican\": \"FireBrick\",\n",
    "        \"Independent\": \"Silver\",\n",
    "    },\n",
    "    height=600,\n",
    ")\n",
    "\n",
    "fig_bar.update_layout(\n",
    "    title={\n",
    "        \"text\": \"Top 20 tweeting senators (2021)\",\n",
    "        \"x\": 0.5,\n",
    "        \"xanchor\": \"center\",\n",
    "        \"font\": {\"size\": 22},\n",
    "    },\n",
    "    xaxis=dict(titlefont_size=18),\n",
    "    yaxis=dict(titlefont_size=18),\n",
    "    xaxis_categoryorder=\"total descending\",\n",
    "    xaxis_tickangle=-45,\n",
    "    xaxis_tickfont_size=14,\n",
    ")\n",
    "\n",
    "fig_bar.update_yaxes(range=[0, 4000])\n",
    "\n",
    "fig_bar.add_hline(\n",
    "    y=bar_df.Tweets.mean(), line_width=2, line_dash=\"dash\", line_color=\"lightgray\"\n",
    ")\n",
    "\n",
    "fig_bar.update_traces(\n",
    "    hovertemplate=\"Tweets: %{y} <br>Name: %{x}\",\n",
    "    textfont_size=13,\n",
    ")\n",
    "\n",
    "fig_bar.show()\n"
   ]
  },
  {
   "cell_type": "code",
   "execution_count": null,
   "id": "0493c85a",
   "metadata": {},
   "outputs": [],
   "source": [
    "# Save plots locally to html\n",
    "fig_bar.write_html(\"plots/tweets-by-senator.html\")\n",
    "fig_pie.write_html(\"plots/tweets-by-party.html\")\n",
    "\n",
    "# Upload each figure to it's own datapane report\n",
    "dp.Report(\n",
    "    dp.Plot(fig_pie),\n",
    ").upload(name=\"Senator tweets by party in 2021\")\n",
    "dp.Report(\n",
    "    dp.Plot(fig_bar),\n",
    ").upload(name=\"Top 20 tweeting senators in 2021\")\n"
   ]
  },
  {
   "cell_type": "markdown",
   "id": "67b461b9",
   "metadata": {},
   "source": [
    "#### Tweets word clouds"
   ]
  },
  {
   "cell_type": "code",
   "execution_count": null,
   "id": "228697c6",
   "metadata": {},
   "outputs": [],
   "source": [
    "# Set stopwords for both word clouds\n",
    "stopwords = set(STOPWORDS)\n",
    "stopwords.update(\n",
    "    [\n",
    "        \"https\",\n",
    "        \"s\",\n",
    "        \"t\",\n",
    "        \"co\",\n",
    "        \"amp\",\n",
    "        \"u\",\n",
    "        \"today\",\n",
    "        \"make\",\n",
    "        \"re\",\n",
    "        \"m\",\n",
    "        \"will\",\n",
    "        \"need\",\n",
    "        \"support\",\n",
    "        \"thank\",\n",
    "        \"state\",\n",
    "        \"bill\",\n",
    "        \"nation\",\n",
    "        \"time\",\n",
    "        \"American\",\n",
    "        \"now\",\n",
    "        \"work\",\n",
    "        \"help\",\n",
    "        \"continue\",\n",
    "        \"country\",\n",
    "        \"year\",\n",
    "        \"one\",\n",
    "        \"new\",\n",
    "        \"day\",\n",
    "        \"week\",\n",
    "        \"see\",\n",
    "        \"live\",\n",
    "        \"ensure\",\n",
    "        \"many\",\n",
    "        \"family\",\n",
    "        \"keep\",\n",
    "        \"made\",\n",
    "        \"discuss\",\n",
    "        \"sure\",\n",
    "        \"people\",\n",
    "        \"let\",\n",
    "        \"must\",\n",
    "        \"take\",\n",
    "        \"continue\",\n",
    "        \"effort\",\n",
    "        \"thanks\",\n",
    "        \"Thanks\",\n",
    "        \"way\",\n",
    "        \"know\",\n",
    "        \"us\",\n",
    "        \"many\",\n",
    "        \"don\",\n",
    "        \"w\",\n",
    "        \"go\",\n",
    "    ]\n",
    ")\n",
    "\n",
    "# Join all strings of tweets for each party\n",
    "cloud_df = sql_df.groupby(\"party\").agg({\"text\": \" \".join}).reset_index()\n"
   ]
  },
  {
   "cell_type": "code",
   "execution_count": null,
   "id": "a15e6329",
   "metadata": {},
   "outputs": [],
   "source": [
    "# Generate word cloud image for Democratic tweets\n",
    "wordcloud_dems = WordCloud(\n",
    "    stopwords=stopwords,\n",
    "    background_color=\"lightgray\",\n",
    "    width=1600,\n",
    "    height=800,\n",
    "    colormap=\"bone\",\n",
    ").generate(cloud_df[cloud_df[\"party\"] == \"D\"][\"text\"][0])\n",
    "\n",
    "# Plot the word cloud\n",
    "plt.figure(figsize=(20, 10))\n",
    "plt.imshow(wordcloud_dems)\n",
    "plt.axis(\"off\")\n",
    "plt.tight_layout(pad=1)\n",
    "plt.show()"
   ]
  },
  {
   "cell_type": "code",
   "execution_count": null,
   "id": "3f1bb885",
   "metadata": {},
   "outputs": [],
   "source": [
    "# Generate word cloud image for Republican tweets\n",
    "wordcloud_reps = WordCloud(\n",
    "    stopwords=stopwords,\n",
    "    background_color=\"lightgray\",\n",
    "    width=1600,\n",
    "    height=800,\n",
    "    colormap=\"gist_heat\",\n",
    ").generate(cloud_df[cloud_df[\"party\"] == \"R\"][\"text\"][2])\n",
    "\n",
    "# Plot the word cloud\n",
    "plt.figure(figsize=(20, 10))\n",
    "plt.imshow(wordcloud_reps)\n",
    "plt.axis(\"off\")\n",
    "plt.tight_layout(pad=1)\n",
    "plt.show()\n"
   ]
  },
  {
   "cell_type": "code",
   "execution_count": null,
   "id": "a1916a98",
   "metadata": {},
   "outputs": [],
   "source": [
    "# Close SQLite connection\n",
    "conn.close()\n"
   ]
  }
 ],
 "metadata": {
  "interpreter": {
   "hash": "4b9e87d4274dd6ecbecc2be33fe3f56eb3f9e8a60318ba2240d0e0065bccd065"
  },
  "jupytext": {
   "cell_metadata_filter": "-all",
   "main_language": "python",
   "notebook_metadata_filter": "-all"
  },
  "kernelspec": {
   "display_name": "Python 3.9.1 64-bit ('rep-or-dem-tweets-NaH1Hm9n': pipenv)",
   "language": "python",
   "name": "python3"
  },
  "language_info": {
   "codemirror_mode": {
    "name": "ipython",
    "version": 3
   },
   "file_extension": ".py",
   "mimetype": "text/x-python",
   "name": "python",
   "nbconvert_exporter": "python",
   "pygments_lexer": "ipython3",
   "version": "3.9.1"
  }
 },
 "nbformat": 4,
 "nbformat_minor": 5
}
