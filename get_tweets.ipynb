{
 "cells": [
  {
   "cell_type": "code",
   "execution_count": 1,
   "id": "1f2576a6",
   "metadata": {},
   "outputs": [],
   "source": [
    "# Imports\n",
    "from datetime import datetime\n",
    "import pandas as pd\n",
    "import snscrape\n",
    "import sqlite3\n",
    "from snscrape.modules import twitter\n",
    "from sqlalchemy import create_engine"
   ]
  },
  {
   "cell_type": "code",
   "execution_count": 4,
   "id": "b5acd296",
   "metadata": {},
   "outputs": [
    {
     "data": {
      "text/html": [
       "<div>\n",
       "<style scoped>\n",
       "    .dataframe tbody tr th:only-of-type {\n",
       "        vertical-align: middle;\n",
       "    }\n",
       "\n",
       "    .dataframe tbody tr th {\n",
       "        vertical-align: top;\n",
       "    }\n",
       "\n",
       "    .dataframe thead th {\n",
       "        text-align: right;\n",
       "    }\n",
       "</style>\n",
       "<table border=\"1\" class=\"dataframe\">\n",
       "  <thead>\n",
       "    <tr style=\"text-align: right;\">\n",
       "      <th></th>\n",
       "      <th>name</th>\n",
       "      <th>state</th>\n",
       "      <th>party</th>\n",
       "      <th>username</th>\n",
       "    </tr>\n",
       "  </thead>\n",
       "  <tbody>\n",
       "    <tr>\n",
       "      <th>0</th>\n",
       "      <td>Baldwin, Tammy</td>\n",
       "      <td>WI</td>\n",
       "      <td>D</td>\n",
       "      <td>SenatorBaldwin</td>\n",
       "    </tr>\n",
       "    <tr>\n",
       "      <th>1</th>\n",
       "      <td>Barrasso, John</td>\n",
       "      <td>WY</td>\n",
       "      <td>R</td>\n",
       "      <td>SenJohnBarrasso</td>\n",
       "    </tr>\n",
       "    <tr>\n",
       "      <th>2</th>\n",
       "      <td>Bennet, Michael F.</td>\n",
       "      <td>CO</td>\n",
       "      <td>D</td>\n",
       "      <td>SenatorBennet</td>\n",
       "    </tr>\n",
       "    <tr>\n",
       "      <th>3</th>\n",
       "      <td>Blackburn, Marsha</td>\n",
       "      <td>TN</td>\n",
       "      <td>R</td>\n",
       "      <td>MarshaBlackburn</td>\n",
       "    </tr>\n",
       "    <tr>\n",
       "      <th>4</th>\n",
       "      <td>Blumenthal, Richard</td>\n",
       "      <td>CT</td>\n",
       "      <td>D</td>\n",
       "      <td>SenBlumenthal</td>\n",
       "    </tr>\n",
       "  </tbody>\n",
       "</table>\n",
       "</div>"
      ],
      "text/plain": [
       "                  name state party         username\n",
       "0       Baldwin, Tammy    WI     D   SenatorBaldwin\n",
       "1       Barrasso, John    WY     R  SenJohnBarrasso\n",
       "2   Bennet, Michael F.    CO     D    SenatorBennet\n",
       "3    Blackburn, Marsha    TN     R  MarshaBlackburn\n",
       "4  Blumenthal, Richard    CT     D    SenBlumenthal"
      ]
     },
     "execution_count": 4,
     "metadata": {},
     "output_type": "execute_result"
    }
   ],
   "source": [
    "# Read in list of senator usernames\n",
    "usernames = pd.read_csv(\"data/senators_usernames.csv\")\n",
    "\n",
    "# Peak at usernames\n",
    "usernames.head()"
   ]
  },
  {
   "cell_type": "code",
   "execution_count": null,
   "id": "65a2ba90",
   "metadata": {},
   "outputs": [],
   "source": []
  },
  {
   "cell_type": "code",
   "execution_count": null,
   "id": "cd1206cc",
   "metadata": {},
   "outputs": [],
   "source": [
    "def extract_tweets(scraped_profile):\n",
    "    return [\n",
    "        {\n",
    "            \"date\": tweet.date.strftime(\"%Y-%m-%d %I:%M:%S %p\"),\n",
    "            \"id\": tweet.id,\n",
    "            \"username\": tweet.user.username,\n",
    "            \"text\": tweet.content,\n",
    "            \"is_retweet\": str(tweet.retweetedTweet),\n",
    "        }\n",
    "        for tweet in scraped_profile\n",
    "    ]\n",
    "\n",
    "\n",
    "def tidy_tweets(tweets):\n",
    "    # Put tweet data into a df\n",
    "    tweets_df = pd.DataFrame(tweets)\n",
    "    # Tidy up\n",
    "    return (\n",
    "        tweets_df.query('is_retweet == \"None\"')  # remove all retweets\n",
    "        .assign(date=pd.to_datetime(tweets_df.date))  # convert col from str to datetime\n",
    "        # .query(f\"{START_DATE} < date < {END_DATE}\")  # drop tweets outside of date range\n",
    "        .drop(columns=[\"is_retweet\"])  # drop col\n",
    "        .merge(usernames[[\"username\", \"party\"]])\n",
    "        .sort_values(by=[\"date\"])  # sort by date\n",
    "        .reset_index(drop=True)\n",
    "    )"
   ]
  },
  {
   "cell_type": "code",
   "execution_count": null,
   "id": "9cc06c0c",
   "metadata": {},
   "outputs": [],
   "source": [
    "# Connect to locally created db (and create if it doesn't exist)\n",
    "conn = sqlite3.connect(\n",
    "    \"/Users/mnewhauser/python-work/rep-or-dem-tweets/data/TWEETS.db\"\n",
    ")  # Command palette > SQLite: Open database"
   ]
  },
  {
   "cell_type": "code",
   "execution_count": null,
   "id": "0a35565c",
   "metadata": {},
   "outputs": [],
   "source": [
    "# Initalize empty list\n",
    "dfs = []\n",
    "\n",
    "# Get tweets by username and append to db\n",
    "for username in usernames.username.tolist():\n",
    "    try:\n",
    "        # Get all tweets for given username\n",
    "        scraped_profile = twitter.TwitterProfileScraper(username=username).get_items()\n",
    "        # Extra tweet metadata\n",
    "        tweets = extract_tweets(scraped_profile)\n",
    "        # Tidy up tweets and put in df\n",
    "        tweets_df = tidy_tweets(tweets)\n",
    "        # Append to list\n",
    "        dfs.append(tweets_df)\n",
    "    except:\n",
    "        print(f\"Couldn't get tweets for {username}\")"
   ]
  },
  {
   "cell_type": "code",
   "execution_count": null,
   "id": "c60cb736",
   "metadata": {},
   "outputs": [],
   "source": [
    "# Write df to senators table in Tweets db\n",
    "for df in dfs:\n",
    "    df.to_sql(\"senators\", conn, if_exists=\"replace\", chunksize=10000)"
   ]
  },
  {
   "cell_type": "code",
   "execution_count": null,
   "id": "02356b41",
   "metadata": {
    "lines_to_next_cell": 0
   },
   "outputs": [],
   "source": [
    "# Close connection\n",
    "conn.close()"
   ]
  },
  {
   "cell_type": "code",
   "execution_count": null,
   "id": "37a1211a",
   "metadata": {},
   "outputs": [],
   "source": []
  }
 ],
 "metadata": {
  "interpreter": {
   "hash": "4b9e87d4274dd6ecbecc2be33fe3f56eb3f9e8a60318ba2240d0e0065bccd065"
  },
  "jupytext": {
   "cell_metadata_filter": "-all",
   "main_language": "python",
   "notebook_metadata_filter": "-all"
  },
  "kernelspec": {
   "display_name": "Python 3.9.1 64-bit ('rep-or-dem-tweets-NaH1Hm9n': pipenv)",
   "language": "python",
   "name": "python3"
  },
  "language_info": {
   "codemirror_mode": {
    "name": "ipython",
    "version": 3
   },
   "file_extension": ".py",
   "mimetype": "text/x-python",
   "name": "python",
   "nbconvert_exporter": "python",
   "pygments_lexer": "ipython3",
   "version": "3.9.1"
  }
 },
 "nbformat": 4,
 "nbformat_minor": 5
}
