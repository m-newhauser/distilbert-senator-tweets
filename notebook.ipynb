{
 "cells": [
  {
   "cell_type": "code",
   "execution_count": 10,
   "metadata": {},
   "outputs": [],
   "source": [
    "\n",
    "# Get party information and Twitter UIDs for politicians\n",
    "# Both CSVs were downloaded from http://twitterpoliticians.org/download\n",
    "\n",
    "import pandas as pd\n",
    "import tweepy as tw\n",
    "import numpy as np\n",
    "from os import environ as env\n",
    "import streamlit as st\n",
    "from transformers import pipeline"
   ]
  },
  {
   "cell_type": "code",
   "execution_count": null,
   "metadata": {},
   "outputs": [],
   "source": [
    "st.title('Tweets - Republican or Democrat?')"
   ]
  },
  {
   "cell_type": "code",
   "execution_count": 5,
   "metadata": {},
   "outputs": [],
   "source": [
    "# Load credentials from .env file\n",
    "auth = tw.AppAuthHandler(env[\"CONSUMER_KEY\"], env[\"CONSUMER_SECRET\"])\n",
    "\n",
    "# Authorize\n",
    "api = tw.API(auth)"
   ]
  },
  {
   "cell_type": "code",
   "execution_count": 6,
   "metadata": {},
   "outputs": [],
   "source": [
    "# Get data\n",
    "SCREEN_NAMES = [\n",
    "    \"SpeakerPelosi\",\n",
    "    \"RepMaxineWaters\", \n",
    "    \"SenTedCruz\", \n",
    "    \"RandPaul\",\n",
    "    \"GOPLeader\", \n",
    "    \"Jim_Jordan\", \n",
    "    \"RepAdamSchiff\", \n",
    "    \"ewarren\"  \n",
    "]\n",
    "\n",
    "DEMOCRATS = [\n",
    "    \"SpeakerPelosi\",\n",
    "    \"RepMaxineWaters\",\n",
    "    \"RepAdamSchiff\", \n",
    "    \"ewarren\"\n",
    "]\n",
    "\n",
    "MAX_TWEETS = 10\n",
    "\n",
    "dfs_list = []\n",
    "for name in SCREEN_NAMES:\n",
    "    try:\n",
    "        # Creation of query method using parameters\n",
    "        tweets = tw.Cursor(api.user_timeline, screen_name=name, tweet_mode=\"extended\").items(MAX_TWEETS)\n",
    "\n",
    "        # Post-process tweets\n",
    "        tweets_json = [t._json for t in tweets]\n",
    "        tweets_normalized = pd.json_normalize(tweets_json)\n",
    "        dfs_list.append(tweets_normalized)\n",
    "    except:\n",
    "        print('Unable to find tweets for {}'.format(name))\n",
    "      \n",
    "# Combine all dfs into one df and clean\n",
    "tweets_df = pd.concat(dfs_list)\n",
    "tweets_df = tweets_df[[\"created_at\", \"id\", \"full_text\", \"user.id_str\", \"user.name\", \"user.screen_name\"]]\n",
    "\n",
    "# tweets_df.rename({\"id\": \"tweet_id\",\n",
    "#     \"user.id_str\": \"uid\",\n",
    "#     \"user.name\": \"username\", \n",
    "#     \"user.screen_name\": \"screen_name\",\n",
    "#     \"user.url\": \"user_url\"\n",
    "# }, inplace=True)\n",
    "\n",
    "# Add column for political party\n",
    "tweets_df['party'] = np.where(tweets_df['user.screen_name'].isin(DEMOCRATS) , 'democrat', 'republican')\n",
    "\n",
    "st.subheader('Raw tweet data')\n",
    "st.write(tweets_df)"
   ]
  },
  {
   "cell_type": "code",
   "execution_count": 11,
   "metadata": {},
   "outputs": [
    {
     "name": "stderr",
     "output_type": "stream",
     "text": [
      "No model was supplied, defaulted to facebook/bart-large-mnli (https://huggingface.co/facebook/bart-large-mnli)\n"
     ]
    },
    {
     "ename": "RuntimeError",
     "evalue": "At least one of TensorFlow 2.0 or PyTorch should be installed. To install TensorFlow 2.0, read the instructions at https://www.tensorflow.org/install/ To install PyTorch, read the instructions at https://pytorch.org/.",
     "output_type": "error",
     "traceback": [
      "\u001b[0;31m---------------------------------------------------------------------------\u001b[0m",
      "\u001b[0;31mRuntimeError\u001b[0m                              Traceback (most recent call last)",
      "\u001b[0;32m/var/folders/n0/_gb2zcx175v6pfdph5qdlvjmm19xcb/T/ipykernel_23801/3185806372.py\u001b[0m in \u001b[0;36m<module>\u001b[0;34m\u001b[0m\n\u001b[1;32m      1\u001b[0m \u001b[0;31m# Classify tweets\u001b[0m\u001b[0;34m\u001b[0m\u001b[0;34m\u001b[0m\u001b[0;34m\u001b[0m\u001b[0m\n\u001b[0;32m----> 2\u001b[0;31m \u001b[0mclassifier\u001b[0m \u001b[0;34m=\u001b[0m \u001b[0mpipeline\u001b[0m\u001b[0;34m(\u001b[0m\u001b[0;34m\"zero-shot-classification\"\u001b[0m\u001b[0;34m)\u001b[0m\u001b[0;34m\u001b[0m\u001b[0;34m\u001b[0m\u001b[0m\n\u001b[0m",
      "\u001b[0;32m~/Library/Caches/pypoetry/virtualenvs/rep-or-dem-tweets-N8FTIkF8-py3.7/lib/python3.7/site-packages/transformers/pipelines/__init__.py\u001b[0m in \u001b[0;36mpipeline\u001b[0;34m(task, model, config, tokenizer, feature_extractor, framework, revision, use_fast, use_auth_token, model_kwargs, **kwargs)\u001b[0m\n\u001b[1;32m    459\u001b[0m         \u001b[0mrevision\u001b[0m\u001b[0;34m=\u001b[0m\u001b[0mrevision\u001b[0m\u001b[0;34m,\u001b[0m\u001b[0;34m\u001b[0m\u001b[0;34m\u001b[0m\u001b[0m\n\u001b[1;32m    460\u001b[0m         \u001b[0mtask\u001b[0m\u001b[0;34m=\u001b[0m\u001b[0mtask\u001b[0m\u001b[0;34m,\u001b[0m\u001b[0;34m\u001b[0m\u001b[0;34m\u001b[0m\u001b[0m\n\u001b[0;32m--> 461\u001b[0;31m         \u001b[0;34m**\u001b[0m\u001b[0mmodel_kwargs\u001b[0m\u001b[0;34m,\u001b[0m\u001b[0;34m\u001b[0m\u001b[0;34m\u001b[0m\u001b[0m\n\u001b[0m\u001b[1;32m    462\u001b[0m     )\n\u001b[1;32m    463\u001b[0m \u001b[0;34m\u001b[0m\u001b[0m\n",
      "\u001b[0;32m~/Library/Caches/pypoetry/virtualenvs/rep-or-dem-tweets-N8FTIkF8-py3.7/lib/python3.7/site-packages/transformers/pipelines/base.py\u001b[0m in \u001b[0;36minfer_framework_load_model\u001b[0;34m(model, config, model_classes, task, framework, **model_kwargs)\u001b[0m\n\u001b[1;32m    100\u001b[0m     \u001b[0;32mif\u001b[0m \u001b[0;32mnot\u001b[0m \u001b[0mis_tf_available\u001b[0m\u001b[0;34m(\u001b[0m\u001b[0;34m)\u001b[0m \u001b[0;32mand\u001b[0m \u001b[0;32mnot\u001b[0m \u001b[0mis_torch_available\u001b[0m\u001b[0;34m(\u001b[0m\u001b[0;34m)\u001b[0m\u001b[0;34m:\u001b[0m\u001b[0;34m\u001b[0m\u001b[0;34m\u001b[0m\u001b[0m\n\u001b[1;32m    101\u001b[0m         raise RuntimeError(\n\u001b[0;32m--> 102\u001b[0;31m             \u001b[0;34m\"At least one of TensorFlow 2.0 or PyTorch should be installed. \"\u001b[0m\u001b[0;34m\u001b[0m\u001b[0;34m\u001b[0m\u001b[0m\n\u001b[0m\u001b[1;32m    103\u001b[0m             \u001b[0;34m\"To install TensorFlow 2.0, read the instructions at https://www.tensorflow.org/install/ \"\u001b[0m\u001b[0;34m\u001b[0m\u001b[0;34m\u001b[0m\u001b[0m\n\u001b[1;32m    104\u001b[0m             \u001b[0;34m\"To install PyTorch, read the instructions at https://pytorch.org/.\"\u001b[0m\u001b[0;34m\u001b[0m\u001b[0;34m\u001b[0m\u001b[0m\n",
      "\u001b[0;31mRuntimeError\u001b[0m: At least one of TensorFlow 2.0 or PyTorch should be installed. To install TensorFlow 2.0, read the instructions at https://www.tensorflow.org/install/ To install PyTorch, read the instructions at https://pytorch.org/."
     ]
    }
   ],
   "source": [
    "# Classify tweets\n",
    "classifier = pipeline(\"zero-shot-classification\")"
   ]
  },
  {
   "cell_type": "code",
   "execution_count": null,
   "metadata": {},
   "outputs": [],
   "source": []
  }
 ],
 "metadata": {
  "interpreter": {
   "hash": "b6125bb184c105b1520e372d91bc4d76e60e3b38e3ff3e9879b576352cdacd70"
  },
  "kernelspec": {
   "display_name": "Python 3.7.1 64-bit ('rep-or-dem-tweets-N8FTIkF8-py3.7': poetry)",
   "name": "python3"
  },
  "language_info": {
   "codemirror_mode": {
    "name": "ipython",
    "version": 3
   },
   "file_extension": ".py",
   "mimetype": "text/x-python",
   "name": "python",
   "nbconvert_exporter": "python",
   "pygments_lexer": "ipython3",
   "version": "3.7.1"
  },
  "orig_nbformat": 4
 },
 "nbformat": 4,
 "nbformat_minor": 2
}
